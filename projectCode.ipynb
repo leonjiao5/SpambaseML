{
 "cells": [
  {
   "cell_type": "markdown",
   "id": "5ddd55cd",
   "metadata": {},
   "source": [
    "# Spambase Project - Intro to ML Final\n",
    "\n",
    "## Leon Huang and Leon Jiao"
   ]
  },
  {
   "cell_type": "markdown",
   "id": "500dea6a",
   "metadata": {},
   "source": [
    "### Introduction\n",
    "The following project will center around predicting whether an email is a spam email based off of characters, words, and phrases contained within the email. Throughout, we will be using machine learning techniques that we have learned during the INFO 1998 course. \n",
    "\n",
    "[Insert some shit]\n",
    "\n",
    "#### Source\n",
    "\n",
    "https://archive.ics.uci.edu/dataset/94/spambase"
   ]
  },
  {
   "cell_type": "markdown",
   "id": "4530832a",
   "metadata": {},
   "source": [
    "### Preliminary Steps: Data at a First Glance"
   ]
  },
  {
   "cell_type": "markdown",
   "id": "208c1009",
   "metadata": {},
   "source": [
    "First, we import the necessary packages."
   ]
  },
  {
   "cell_type": "code",
   "execution_count": null,
   "id": "773cedb6",
   "metadata": {},
   "outputs": [],
   "source": [
    "import numpy as np\n",
    "import pandas as pd\n",
    "from matplotlib import pyplot as plt\n",
    "import seaborn as sns\n",
    "%matplotlib inline"
   ]
  },
  {
   "cell_type": "markdown",
   "id": "87bca918",
   "metadata": {},
   "source": [
    "### Read the Feature names"
   ]
  },
  {
   "cell_type": "code",
   "execution_count": null,
   "id": "34af779b",
   "metadata": {},
   "outputs": [],
   "source": [
    "with open(\"spambase.names\", \"r\") as namesFile:\n",
    "    namesInfo = namesFile.readlines()\n",
    "\n",
    "for index, line in enumerate(namesInfo):\n",
    "    print(index, \"\\t\", line)"
   ]
  },
  {
   "cell_type": "markdown",
   "id": "aaae0c1d",
   "metadata": {},
   "source": [
    "By inspection, the feature names begin at index 33."
   ]
  },
  {
   "cell_type": "code",
   "execution_count": null,
   "id": "a653860b",
   "metadata": {},
   "outputs": [],
   "source": [
    "# This yields our 57 features of interest\n",
    "featuresList = namesInfo[33:]\n",
    "featureNames = [name[: name.index(\":\")] for name in featuresList]\n",
    "featureNames.append(\"spam_class\")\n",
    "featureNames"
   ]
  },
  {
   "cell_type": "markdown",
   "id": "04a01e76",
   "metadata": {},
   "source": [
    "### Load the data "
   ]
  },
  {
   "cell_type": "code",
   "execution_count": null,
   "id": "c1bab0da",
   "metadata": {},
   "outputs": [],
   "source": [
    "data = pd.read_csv(\"spambase.data\", names=featureNames)\n",
    "data.head()"
   ]
  },
  {
   "cell_type": "code",
   "execution_count": null,
   "id": "bcd9319e",
   "metadata": {},
   "outputs": [],
   "source": [
    "# Get data statistics\n",
    "data.describe()"
   ]
  },
  {
   "cell_type": "code",
   "execution_count": null,
   "id": "04524793",
   "metadata": {},
   "outputs": [],
   "source": [
    "data.shape"
   ]
  },
  {
   "cell_type": "markdown",
   "id": "0a5c5189",
   "metadata": {},
   "source": [
    "Here, we can see that there are 4601 data points for us to analyze. "
   ]
  },
  {
   "cell_type": "markdown",
   "id": "49313181",
   "metadata": {},
   "source": [
    "# Correlation Matrix Visualization"
   ]
  },
  {
   "cell_type": "markdown",
   "id": "f64e9447",
   "metadata": {},
   "source": [
    "This matrix displays the value of the Pearson correlation coefficient between each of the features."
   ]
  },
  {
   "cell_type": "code",
   "execution_count": null,
   "id": "2c981e9b",
   "metadata": {},
   "outputs": [],
   "source": [
    "correlation = data.corr()\n",
    "correlation.style.background_gradient(cmap='coolwarm')"
   ]
  },
  {
   "cell_type": "markdown",
   "id": "fb217631",
   "metadata": {},
   "source": [
    "We look at the heatmap correlating features with spam classification. "
   ]
  },
  {
   "cell_type": "code",
   "execution_count": null,
   "id": "93f22c16",
   "metadata": {},
   "outputs": [],
   "source": [
    "sns.heatmap(correlation[[\"spam_class\"]])"
   ]
  },
  {
   "cell_type": "markdown",
   "id": "1f34dfcf",
   "metadata": {},
   "source": [
    "Sort these features to identify those with the greatest correlation coefficients, taking the absolute value to disregard negatives. "
   ]
  },
  {
   "cell_type": "code",
   "execution_count": null,
   "id": "00c99178",
   "metadata": {},
   "outputs": [],
   "source": [
    "spam_corr = correlation[\"spam_class\"].abs()\n",
    "# spam_corr = sorted(spam_corr)\n",
    "spam_corr = spam_corr.sort_values(ascending=False)[1:]\n",
    "spam_corr"
   ]
  },
  {
   "cell_type": "markdown",
   "id": "dccb1755",
   "metadata": {},
   "source": [
    "#### We see that our top 5 features correlated with spam classification are the word frequencies of your, 000, remove, and you, and the character frequency of $."
   ]
  },
  {
   "cell_type": "markdown",
   "id": "4a8be3ec",
   "metadata": {},
   "source": [
    "#### The top 10 features correlated with spam classification are word frequencies of your, 000, remove, you, free, business, hp, and our; the character frequency of $; and the total length of sequences of capital letters."
   ]
  },
  {
   "cell_type": "code",
   "execution_count": null,
   "id": "5d0edbec",
   "metadata": {},
   "outputs": [],
   "source": [
    "features_5 = list(spam_corr[:5].keys())\n",
    "features_10 = list(spam_corr[:10].keys())\n",
    "X = data[features_5]\n",
    "X2 = data[features_10]\n",
    "Y = data[\"spam_class\"]"
   ]
  },
  {
   "cell_type": "markdown",
   "id": "d25db606",
   "metadata": {},
   "source": [
    "# Machine Learning Models\n",
    "\n",
    "With these five features, we are now ready to do machine learning!\n",
    "\n",
    "We will look at five models: A Decision Tree Classifier, a Random Forest Classifier, a K-Neighbors Classifier, Logistic Regression, and Support Vector Machine.\n",
    "\n",
    "#### Split the data using train_test_split."
   ]
  },
  {
   "cell_type": "code",
   "execution_count": null,
   "id": "3814ce0f",
   "metadata": {},
   "outputs": [],
   "source": [
    "from sklearn.model_selection import train_test_split\n",
    "from sklearn.metrics import accuracy_score\n",
    "x_train, x_test, y_train, y_test = train_test_split(X, Y, test_size=0.2, random_state=42)\n",
    "# A dictionary to save the accuracies of different models for a later visualization\n",
    "accuracies5 = {}"
   ]
  },
  {
   "cell_type": "markdown",
   "id": "188f2f08",
   "metadata": {},
   "source": [
    "#### Decision Tree Classifier\n",
    "\n",
    "We need to find the most optimal depth that maximizes the accuracy of the model. "
   ]
  },
  {
   "cell_type": "code",
   "execution_count": null,
   "id": "3da89cbb",
   "metadata": {
    "scrolled": true
   },
   "outputs": [],
   "source": [
    "from sklearn.tree import DecisionTreeClassifier\n",
    "\n",
    "best_depth = 1\n",
    "best_accuracy = -1\n",
    "\n",
    "for x in range(1, 50):\n",
    "    model = DecisionTreeClassifier(max_depth = x)\n",
    "    model.fit(x_train, y_train)\n",
    "    prediction = model.predict(x_test)\n",
    "    score = accuracy_score(prediction, y_test)\n",
    "    \n",
    "    if(score > best_accuracy):\n",
    "        best_depth = x\n",
    "        best_accuracy = score\n",
    "        \n",
    "accuracies5[\"Decision Tree\"] = best_accuracy\n",
    "print(\"The Decision Tree is most accurate when it has depth {depth}.\".format(depth=best_depth))\n",
    "print(\"The greatest accuracy of the Decision Tree is {acc}.\".format(acc=best_accuracy))"
   ]
  },
  {
   "cell_type": "markdown",
   "id": "13893259",
   "metadata": {},
   "source": [
    "#### Random Forest Classifier"
   ]
  },
  {
   "cell_type": "code",
   "execution_count": null,
   "id": "1591de83",
   "metadata": {},
   "outputs": [],
   "source": [
    "from sklearn.ensemble import RandomForestClassifier\n",
    "\n",
    "rmodel = RandomForestClassifier()\n",
    "rmodel.fit(x_train, y_train)\n",
    "rpredictions = rmodel.predict(x_test)\n",
    "\n",
    "accuracies5[\"Random Forest\"] = accuracy_score(rpredictions, y_test)\n",
    "print(\"Accuracy Score with a Random Forest Classifier:\", accuracy_score(rpredictions, y_test))"
   ]
  },
  {
   "cell_type": "markdown",
   "id": "3f4b6dca",
   "metadata": {},
   "source": [
    "#### K-Neighbors Classifier\n",
    "\n",
    "We find the optimal number of neighbors."
   ]
  },
  {
   "cell_type": "code",
   "execution_count": 23,
   "id": "efe9624e",
   "metadata": {},
   "outputs": [
    {
     "name": "stdout",
     "output_type": "stream",
     "text": [
      "Accuracy Score with a K-Nearest Neighbors Classifier with 1 neighbors: 0.7980456026058632\n"
     ]
    }
   ],
   "source": [
    "from sklearn.neighbors import KNeighborsClassifier\n",
    "\n",
    "best_k = 1\n",
    "best_accuracy = -1\n",
    "\n",
    "for x in range(1, 50):\n",
    "    kmodel = KNeighborsClassifier(n_neighbors = x)\n",
    "    kmodel.fit(x_train, y_train)\n",
    "    prediction = kmodel.predict(x_test)\n",
    "    score = accuracy_score(prediction, y_test)\n",
    "    \n",
    "    if(score > best_accuracy):\n",
    "        best_k = x\n",
    "        best_accuracy = score\n",
    "\n",
    "accuracies5[\"K-Neighbors\"] = best_accuracy\n",
    "print(\"Accuracy Score with a K-Nearest Neighbors Classifier with {k} neighbors: {acc}\".format(k=best_k, acc=best_accuracy))"
   ]
  },
  {
   "cell_type": "markdown",
   "id": "b561cae1",
   "metadata": {},
   "source": [
    "#### Logistic Regression"
   ]
  },
  {
   "cell_type": "code",
   "execution_count": 24,
   "id": "ae0fefc8",
   "metadata": {},
   "outputs": [
    {
     "name": "stdout",
     "output_type": "stream",
     "text": [
      "Accuracy Score with a Logistic Regression: 0.8675352877307275\n"
     ]
    },
    {
     "name": "stderr",
     "output_type": "stream",
     "text": [
      "/Users/leonhuang/anaconda3/lib/python3.11/site-packages/sklearn/linear_model/_logistic.py:460: ConvergenceWarning: lbfgs failed to converge (status=1):\n",
      "STOP: TOTAL NO. of ITERATIONS REACHED LIMIT.\n",
      "\n",
      "Increase the number of iterations (max_iter) or scale the data as shown in:\n",
      "    https://scikit-learn.org/stable/modules/preprocessing.html\n",
      "Please also refer to the documentation for alternative solver options:\n",
      "    https://scikit-learn.org/stable/modules/linear_model.html#logistic-regression\n",
      "  n_iter_i = _check_optimize_result(\n"
     ]
    }
   ],
   "source": [
    "from sklearn.linear_model import LogisticRegression\n",
    "\n",
    "lmodel = LogisticRegression()\n",
    "lmodel.fit(x_train, y_train)\n",
    "lpredictions = lmodel.predict(x_test)\n",
    "\n",
    "accuracies5[\"Logistic Regression\"] = accuracy_score(lpredictions, y_test)\n",
    "print(\"Accuracy Score with a Logistic Regression:\", accuracy_score(lpredictions, y_test))"
   ]
  },
  {
   "cell_type": "markdown",
   "id": "eb42d2e1",
   "metadata": {},
   "source": [
    "#### Support Vector Machine"
   ]
  },
  {
   "cell_type": "code",
   "execution_count": 25,
   "id": "f2d09b9d",
   "metadata": {},
   "outputs": [
    {
     "name": "stdout",
     "output_type": "stream",
     "text": [
      "Accuracy Score with SVM: 0.6547231270358306\n"
     ]
    }
   ],
   "source": [
    "from sklearn.svm import SVC\n",
    "\n",
    "model = SVC(kernel=\"rbf\")\n",
    "model.fit(x_train, y_train)\n",
    "predictions = model.predict(x_test)\n",
    "\n",
    "accuracies5[\"Support Vector Machine\"] = accuracy_score(predictions, y_test)\n",
    "print(\"Accuracy Score with SVM:\", accuracy_score(predictions, y_test))"
   ]
  },
  {
   "cell_type": "markdown",
   "id": "208d2b7f",
   "metadata": {},
   "source": [
    "### We see that for 5 features, the Random Forest Classifier had the highest accuracy."
   ]
  },
  {
   "cell_type": "code",
   "execution_count": 26,
   "id": "9520e0b2",
   "metadata": {},
   "outputs": [
    {
     "data": {
      "text/plain": [
       "{'Decision Tree': 0.8534201954397395,\n",
       " 'Random Forest': 0.8566775244299675,\n",
       " 'K-Neighbors': 0.7980456026058632,\n",
       " 'Logistic Regression': 0.8675352877307275,\n",
       " 'Support Vector Machine': 0.6547231270358306}"
      ]
     },
     "execution_count": 26,
     "metadata": {},
     "output_type": "execute_result"
    }
   ],
   "source": [
    "accuracies5"
   ]
  },
  {
   "cell_type": "markdown",
   "id": "59c02d27",
   "metadata": {},
   "source": [
    "Create a bar plot of the accuracies for 5 features."
   ]
  },
  {
   "cell_type": "code",
   "execution_count": 41,
   "id": "ef74839c",
   "metadata": {
    "scrolled": true
   },
   "outputs": [
    {
     "data": {
      "text/plain": [
       "<BarContainer object of 5 artists>"
      ]
     },
     "execution_count": 41,
     "metadata": {},
     "output_type": "execute_result"
    },
    {
     "data": {
      "image/png": "[encoded data removed]",
      "text/plain": [
       "<Figure size 1100x500 with 1 Axes>"
      ]
     },
     "metadata": {},
     "output_type": "display_data"
    }
   ],
   "source": [
    "plt.figure(figsize = (11, 5))\n",
    "colors = ['tab:blue', 'tab:orange', 'tab:green', 'tab:red', 'tab:purple']\n",
    "plt.bar(accuracies5.keys(), accuracies5.values(), color = colors)"
   ]
  },
  {
   "cell_type": "markdown",
   "id": "cdc3adcc",
   "metadata": {},
   "source": []
  },
  {
   "cell_type": "markdown",
   "id": "53f01aad",
   "metadata": {},
   "source": [
    "#### Repeat all the same procedures for 10 correlated features. "
   ]
  },
  {
   "cell_type": "code",
   "execution_count": 36,
   "id": "c36bac00",
   "metadata": {},
   "outputs": [],
   "source": [
    "x_train, x_test, y_train, y_test = train_test_split(X2, Y, test_size=0.2, random_state=42)\n",
    "accuracies10 = {}\n",
    "\n",
    "# Decision Tree\n",
    "best_depth = 1\n",
    "best_accuracy = -1\n",
    "for x in range(1, 50):\n",
    "    model = DecisionTreeClassifier(max_depth = x)\n",
    "    model.fit(x_train, y_train)\n",
    "    prediction = model.predict(x_test)\n",
    "    score = accuracy_score(prediction, y_test)\n",
    "    \n",
    "    if(score > best_accuracy):\n",
    "        best_depth = x\n",
    "        best_accuracy = score\n",
    "        \n",
    "accuracies10[\"Decision Tree\"] = best_accuracy\n",
    "\n",
    "# Random Forest\n",
    "rmodel = RandomForestClassifier()\n",
    "rmodel.fit(x_train, y_train)\n",
    "rpredictions = rmodel.predict(x_test)\n",
    "accuracies10[\"Random Forest\"] = accuracy_score(rpredictions, y_test)\n",
    "\n",
    "# K-Neighbors\n",
    "best_k = 1\n",
    "best_accuracy = -1\n",
    "for x in range(1, 50):\n",
    "    kmodel = KNeighborsClassifier(n_neighbors = x)\n",
    "    kmodel.fit(x_train, y_train)\n",
    "    prediction = kmodel.predict(x_test)\n",
    "    score = accuracy_score(prediction, y_test)\n",
    "    \n",
    "    if(score > best_accuracy):\n",
    "        best_k = x\n",
    "        best_accuracy = score\n",
    "\n",
    "accuracies10[\"K-Neighbors\"] = best_accuracy\n",
    "\n",
    "# Logistic Regression\n",
    "lmodel = LogisticRegression(max_iter=1000)\n",
    "lmodel.fit(x_train, y_train)\n",
    "lpredictions = lmodel.predict(x_test)\n",
    "accuracies10[\"Logistic Regression\"] = accuracy_score(lpredictions, y_test)\n",
    "\n",
    "# SVM\n",
    "model = SVC(kernel=\"linear\")\n",
    "model.fit(x_train, y_train)\n",
    "predictions = model.predict(x_test)\n",
    "accuracies10[\"Support Vector Machine\"] = accuracy_score(predictions, y_test)"
   ]
  },
  {
   "cell_type": "markdown",
   "id": "88c469d8",
   "metadata": {},
   "source": [
    "### We improved our highest accuracy to 91.9% with 10 correlated features!"
   ]
  },
  {
   "cell_type": "code",
   "execution_count": 37,
   "id": "1aa1428a",
   "metadata": {},
   "outputs": [
    {
     "data": {
      "text/plain": [
       "{'Decision Tree': 0.9098805646036916,\n",
       " 'Random Forest': 0.9218241042345277,\n",
       " 'K-Neighbors': 0.7980456026058632,\n",
       " 'Logistic Regression': 0.8664495114006515,\n",
       " 'Support Vector Machine': 0.8740499457111836}"
      ]
     },
     "execution_count": 37,
     "metadata": {},
     "output_type": "execute_result"
    }
   ],
   "source": [
    "accuracies10"
   ]
  },
  {
   "cell_type": "code",
   "execution_count": 44,
   "id": "42fa84ab",
   "metadata": {},
   "outputs": [
    {
     "data": {
      "text/plain": [
       "<BarContainer object of 5 artists>"
      ]
     },
     "execution_count": 44,
     "metadata": {},
     "output_type": "execute_result"
    },
    {
     "data": {
      "image/png": "[encoded data removed]",
      "text/plain": [
       "<Figure size 1100x500 with 1 Axes>"
      ]
     },
     "metadata": {},
     "output_type": "display_data"
    }
   ],
   "source": [
    "plt.figure(figsize = (11, 5))\n",
    "colors = ['tab:blue', 'tab:orange', 'tab:green', 'tab:red', 'tab:purple']\n",
    "plt.bar(accuracies10.keys(), accuracies10.values(), color = colors)"
   ]
  },
  {
   "cell_type": "markdown",
   "id": "3a0a7ceb",
   "metadata": {},
   "source": [
    "## Confusion Matrix Visualization"
   ]
  },
  {
   "cell_type": "code",
   "execution_count": null,
   "id": "44a89735",
   "metadata": {
    "scrolled": true
   },
   "outputs": [],
   "source": [
    "from sklearn.metrics import confusion_matrix, ConfusionMatrixDisplay\n",
    "#Random Forest Confusion Matrix\n",
    "ConfusionMatrixDisplay.from_estimator(rmodel, x_test, y_test, normalize='true')"
   ]
  },
  {
   "cell_type": "code",
   "execution_count": null,
   "id": "766bdead",
   "metadata": {},
   "outputs": [],
   "source": [
    "#KNeighbors Confusion Matrix\n",
    "tn, fp, fn, tp = confusion_matrix(y_test, kmodel.predict(x_test)).ravel()\n",
    "\n",
    "print(\"Total Data Points: \" + str(tn + fp + fn + tp))\n",
    "print(\"KNeighbors True Negative Rate: \" + str(tn))\n",
    "print(\"KNeighbors True Positive Rate: \" + str(tp))\n",
    "print(\"KNeighbors False Negative Rate: \" + str(fn))\n",
    "print(\"KNeighbors False Positive Rate: \" + str(fp))\n",
    "\n",
    "ConfusionMatrixDisplay.from_estimator(kmodel, x_test, y_test, normalize='true')"
   ]
  },
  {
   "cell_type": "code",
   "execution_count": null,
   "id": "e2606cb0",
   "metadata": {},
   "outputs": [],
   "source": [
    "#Logistic Regression Confusion Matrix\n",
    "\n",
    "tn, fp, fn, tp = confusion_matrix(y_test, lmodel.predict(x_test)).ravel()\n",
    "\n",
    "print(\"Total Data Points: \" + str(tn + fp + fn + tp))\n",
    "print(\"Logistic Regression True Negative Rate: \" + str(tn))\n",
    "print(\"Logistic Regression True Positive Rate: \" + str(tp))\n",
    "print(\"Logistic Regression False Negative Rate: \" + str(fn))\n",
    "print(\"Logistic Regression False Positive Rate: \" + str(fp))\n",
    "\n",
    "ConfusionMatrixDisplay.from_estimator(lmodel, x_test, y_test, normalize='true')"
   ]
  },
  {
   "cell_type": "markdown",
   "id": "ec9c1f60",
   "metadata": {},
   "source": [
    "## Observations from Confusion Matrix\n",
    "\n",
    "The first observation that we "
   ]
  }
 ],
 "metadata": {
  "kernelspec": {
   "display_name": "Python 3 (ipykernel)",
   "language": "python",
   "name": "python3"
  },
  "language_info": {
   "codemirror_mode": {
    "name": "ipython",
    "version": 3
   },
   "file_extension": ".py",
   "mimetype": "text/x-python",
   "name": "python",
   "nbconvert_exporter": "python",
   "pygments_lexer": "ipython3",
   "version": "3.11.5"
  }
 },
 "nbformat": 4,
 "nbformat_minor": 5
}
